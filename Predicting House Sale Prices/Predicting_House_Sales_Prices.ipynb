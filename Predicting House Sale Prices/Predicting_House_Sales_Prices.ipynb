{
 "cells": [
  {
   "cell_type": "markdown",
   "metadata": {
    "collapsed": true
   },
   "source": [
    "# Machine Learning: Multiple Regression/Linear Models to Predict Home Sale Prices\n",
    "\n",
    "The goal of this analysis is to develop a model that predicts home sale prices from a detailed dataset of home features.\n",
    "\n",
    "The dataset that I will be using includes 2930 observations and 80 variables describing homes in Ames, Iowa which sold between 2006 and 2010. A description on how and why it was created can be found [here](https://www.tandfonline.com/doi/abs/10.1080/10691898.2011.11889627) and descriptions of the features in the dataset can be found [here](https://s3.amazonaws.com/dq-content/307/data_description.txt).\n",
    "\n",
    "## Libraries\n",
    "\n",
    "In order to import and manipulate the data in dataframes, I'll be using the Pandas library. For matrix operations, I'll be leveraging Numpy. The regression model will be preprocessed, fit and measured using sci-kit learn. Matplotlib.pyplot and Seaborn will be used for any necessary visualizations."
   ]
  },
  {
   "cell_type": "code",
   "execution_count": 1,
   "metadata": {
    "collapsed": true
   },
   "outputs": [],
   "source": [
    "import pandas as pd\n",
    "pd.options.display.max_columns = 999\n",
    "import numpy as np\n",
    "from matplotlib import pyplot as plt\n",
    "%matplotlib inline\n",
    "from sklearn.linear_model import LinearRegression\n",
    "from sklearn.metrics import mean_squared_error\n",
    "from sklearn.preprocessing import MinMaxScaler\n",
    "from sklearn.model_selection import KFold\n",
    "import seaborn as sns\n",
    "from scipy import stats"
   ]
  },
  {
   "cell_type": "markdown",
   "metadata": {},
   "source": [
    "## Import Data"
   ]
  },
  {
   "cell_type": "code",
   "execution_count": 2,
   "metadata": {
    "collapsed": true
   },
   "outputs": [],
   "source": [
    "data = pd.read_csv('AmesHousing.tsv', delimiter='\\t')"
   ]
  },
  {
   "cell_type": "code",
   "execution_count": 3,
   "metadata": {
    "collapsed": false
   },
   "outputs": [
    {
     "name": "stdout",
     "output_type": "stream",
     "text": [
      "   Order        PID  MS SubClass MS Zoning  Lot Frontage  Lot Area Street  \\\n",
      "0      1  526301100           20        RL         141.0     31770   Pave   \n",
      "1      2  526350040           20        RH          80.0     11622   Pave   \n",
      "2      3  526351010           20        RL          81.0     14267   Pave   \n",
      "3      4  526353030           20        RL          93.0     11160   Pave   \n",
      "4      5  527105010           60        RL          74.0     13830   Pave   \n",
      "\n",
      "  Alley Lot Shape Land Contour Utilities Lot Config Land Slope Neighborhood  \\\n",
      "0   NaN       IR1          Lvl    AllPub     Corner        Gtl        NAmes   \n",
      "1   NaN       Reg          Lvl    AllPub     Inside        Gtl        NAmes   \n",
      "2   NaN       IR1          Lvl    AllPub     Corner        Gtl        NAmes   \n",
      "3   NaN       Reg          Lvl    AllPub     Corner        Gtl        NAmes   \n",
      "4   NaN       IR1          Lvl    AllPub     Inside        Gtl      Gilbert   \n",
      "\n",
      "  Condition 1 Condition 2 Bldg Type House Style  Overall Qual  Overall Cond  \\\n",
      "0        Norm        Norm      1Fam      1Story             6             5   \n",
      "1       Feedr        Norm      1Fam      1Story             5             6   \n",
      "2        Norm        Norm      1Fam      1Story             6             6   \n",
      "3        Norm        Norm      1Fam      1Story             7             5   \n",
      "4        Norm        Norm      1Fam      2Story             5             5   \n",
      "\n",
      "   Year Built  Year Remod/Add Roof Style Roof Matl Exterior 1st Exterior 2nd  \\\n",
      "0        1960            1960        Hip   CompShg      BrkFace      Plywood   \n",
      "1        1961            1961      Gable   CompShg      VinylSd      VinylSd   \n",
      "2        1958            1958        Hip   CompShg      Wd Sdng      Wd Sdng   \n",
      "3        1968            1968        Hip   CompShg      BrkFace      BrkFace   \n",
      "4        1997            1998      Gable   CompShg      VinylSd      VinylSd   \n",
      "\n",
      "  Mas Vnr Type  Mas Vnr Area Exter Qual Exter Cond Foundation Bsmt Qual  \\\n",
      "0        Stone         112.0         TA         TA     CBlock        TA   \n",
      "1         None           0.0         TA         TA     CBlock        TA   \n",
      "2      BrkFace         108.0         TA         TA     CBlock        TA   \n",
      "3         None           0.0         Gd         TA     CBlock        TA   \n",
      "4         None           0.0         TA         TA      PConc        Gd   \n",
      "\n",
      "  Bsmt Cond Bsmt Exposure BsmtFin Type 1  BsmtFin SF 1 BsmtFin Type 2  \\\n",
      "0        Gd            Gd            BLQ         639.0            Unf   \n",
      "1        TA            No            Rec         468.0            LwQ   \n",
      "2        TA            No            ALQ         923.0            Unf   \n",
      "3        TA            No            ALQ        1065.0            Unf   \n",
      "4        TA            No            GLQ         791.0            Unf   \n",
      "\n",
      "   BsmtFin SF 2  Bsmt Unf SF  Total Bsmt SF Heating Heating QC Central Air  \\\n",
      "0           0.0        441.0         1080.0    GasA         Fa           Y   \n",
      "1         144.0        270.0          882.0    GasA         TA           Y   \n",
      "2           0.0        406.0         1329.0    GasA         TA           Y   \n",
      "3           0.0       1045.0         2110.0    GasA         Ex           Y   \n",
      "4           0.0        137.0          928.0    GasA         Gd           Y   \n",
      "\n",
      "  Electrical  1st Flr SF  2nd Flr SF  Low Qual Fin SF  Gr Liv Area  \\\n",
      "0      SBrkr        1656           0                0         1656   \n",
      "1      SBrkr         896           0                0          896   \n",
      "2      SBrkr        1329           0                0         1329   \n",
      "3      SBrkr        2110           0                0         2110   \n",
      "4      SBrkr         928         701                0         1629   \n",
      "\n",
      "   Bsmt Full Bath  Bsmt Half Bath  Full Bath  Half Bath  Bedroom AbvGr  \\\n",
      "0             1.0             0.0          1          0              3   \n",
      "1             0.0             0.0          1          0              2   \n",
      "2             0.0             0.0          1          1              3   \n",
      "3             1.0             0.0          2          1              3   \n",
      "4             0.0             0.0          2          1              3   \n",
      "\n",
      "   Kitchen AbvGr Kitchen Qual  TotRms AbvGrd Functional  Fireplaces  \\\n",
      "0              1           TA              7        Typ           2   \n",
      "1              1           TA              5        Typ           0   \n",
      "2              1           Gd              6        Typ           0   \n",
      "3              1           Ex              8        Typ           2   \n",
      "4              1           TA              6        Typ           1   \n",
      "\n",
      "  Fireplace Qu Garage Type  Garage Yr Blt Garage Finish  Garage Cars  \\\n",
      "0           Gd      Attchd         1960.0           Fin          2.0   \n",
      "1          NaN      Attchd         1961.0           Unf          1.0   \n",
      "2          NaN      Attchd         1958.0           Unf          1.0   \n",
      "3           TA      Attchd         1968.0           Fin          2.0   \n",
      "4           TA      Attchd         1997.0           Fin          2.0   \n",
      "\n",
      "   Garage Area Garage Qual Garage Cond Paved Drive  Wood Deck SF  \\\n",
      "0        528.0          TA          TA           P           210   \n",
      "1        730.0          TA          TA           Y           140   \n",
      "2        312.0          TA          TA           Y           393   \n",
      "3        522.0          TA          TA           Y             0   \n",
      "4        482.0          TA          TA           Y           212   \n",
      "\n",
      "   Open Porch SF  Enclosed Porch  3Ssn Porch  Screen Porch  Pool Area Pool QC  \\\n",
      "0             62               0           0             0          0     NaN   \n",
      "1              0               0           0           120          0     NaN   \n",
      "2             36               0           0             0          0     NaN   \n",
      "3              0               0           0             0          0     NaN   \n",
      "4             34               0           0             0          0     NaN   \n",
      "\n",
      "   Fence Misc Feature  Misc Val  Mo Sold  Yr Sold Sale Type Sale Condition  \\\n",
      "0    NaN          NaN         0        5     2010       WD          Normal   \n",
      "1  MnPrv          NaN         0        6     2010       WD          Normal   \n",
      "2    NaN         Gar2     12500        6     2010       WD          Normal   \n",
      "3    NaN          NaN         0        4     2010       WD          Normal   \n",
      "4  MnPrv          NaN         0        3     2010       WD          Normal   \n",
      "\n",
      "   SalePrice  \n",
      "0     215000  \n",
      "1     105000  \n",
      "2     172000  \n",
      "3     244000  \n",
      "4     189900  \n"
     ]
    }
   ],
   "source": [
    "print(data.head())"
   ]
  },
  {
   "cell_type": "markdown",
   "metadata": {},
   "source": [
    "## Meet the helper functions\n",
    "\n",
    "Creating functions to handle various stages of the model fitting pipeline. This is an organizational choice, meant to modularize the feature transformation, selection and testing phases.\n",
    "\n",
    "The initial functions execute a basic linear regression on a raw column, measures its performance using mean squared error as a cost function, and returns the square root to communicate the error in the original dollar scale (rmse).\n",
    "\n",
    "1. **transform_features** - This function contains any steps that remove or alter the data. This will include missing value handling (removal or interpolation), removing features (due to data leak or irrelevance), rescaling or transforming features, or creating new features through combination.\n",
    "\n",
    "2. **select_features** - This function passes features into the test/train model.\n",
    "\n",
    "3. **test_and_train** - this is the main function for testing models and calculating error."
   ]
  },
  {
   "cell_type": "code",
   "execution_count": 4,
   "metadata": {
    "collapsed": false
   },
   "outputs": [],
   "source": [
    "#### Transform Features\n",
    "def transform_features(df):\n",
    "    return df"
   ]
  },
  {
   "cell_type": "code",
   "execution_count": 5,
   "metadata": {
    "collapsed": true
   },
   "outputs": [],
   "source": [
    "#### Select Features\n",
    "def select_features(df):\n",
    "    df = df.copy()\n",
    "    return df[['Gr Liv Area', 'SalePrice']]\n"
   ]
  },
  {
   "cell_type": "code",
   "execution_count": 6,
   "metadata": {
    "collapsed": false
   },
   "outputs": [],
   "source": [
    "#### Train and Test\n",
    "def train_and_test(df):\n",
    "    #partition data\n",
    "    train = df[:1460]\n",
    "    test = df[1460:]\n",
    "\n",
    "    #Select features\n",
    "    train_df = select_features(train)\n",
    "    train_numeric = train_df.select_dtypes(include=['integer', 'float'])\n",
    "    features = train_numeric.columns.drop('SalePrice')\n",
    "    \n",
    "    #fit and measure model performance - Linear Regression\n",
    "    lr = LinearRegression()\n",
    "    lr.fit(train_numeric[features], train_numeric[['SalePrice']])\n",
    "    test_predict = lr.predict(test[features])\n",
    "    mse_test = mean_squared_error(test['SalePrice'], test_predict)\n",
    "    rmse_test = np.sqrt(mse_test)\n",
    "    return rmse_test\n"
   ]
  },
  {
   "cell_type": "markdown",
   "metadata": {
    "collapsed": true
   },
   "source": [
    "## Feature engineering"
   ]
  },
  {
   "cell_type": "code",
   "execution_count": 7,
   "metadata": {
    "collapsed": false
   },
   "outputs": [
    {
     "name": "stdout",
     "output_type": "stream",
     "text": [
      "Mas Vnr Type      23\n",
      "Mas Vnr Area      23\n",
      "Bsmt Qual         80\n",
      "Bsmt Cond         80\n",
      "Bsmt Exposure     83\n",
      "BsmtFin Type 1    80\n",
      "BsmtFin SF 1       1\n",
      "BsmtFin Type 2    81\n",
      "BsmtFin SF 2       1\n",
      "Bsmt Unf SF        1\n",
      "Total Bsmt SF      1\n",
      "Electrical         1\n",
      "Bsmt Full Bath     2\n",
      "Bsmt Half Bath     2\n",
      "Garage Cars        1\n",
      "Garage Area        1\n",
      "dtype: int64\n"
     ]
    }
   ],
   "source": [
    "##Missing Values - fillna for numerical cols w/less than 5% MV.\n",
    "len_data = data.shape[0]\n",
    "mv_total = data.isnull().sum()\n",
    "mv_fill = mv_total[(mv_total < (len_data * .05)) & (mv_total > 0)]\n",
    "print(mv_fill)\n",
    "for col in mv_fill.index:\n",
    "    if data[col].dtype in ('int', 'float'):\n",
    "        mode = data[col].mode()\n",
    "        data[col] = data[col].fillna(mode, inplace=True)"
   ]
  },
  {
   "cell_type": "code",
   "execution_count": 8,
   "metadata": {
    "collapsed": false
   },
   "outputs": [
    {
     "name": "stdout",
     "output_type": "stream",
     "text": [
      "These columns are dropped for high missing value count:\n",
      "Index(['Lot Frontage', 'Alley', 'Fireplace Qu', 'Garage Type', 'Garage Yr Blt',\n",
      "       'Garage Finish', 'Garage Qual', 'Garage Cond', 'Pool QC', 'Fence',\n",
      "       'Misc Feature'],\n",
      "      dtype='object')\n"
     ]
    }
   ],
   "source": [
    "##Missing Values - drop cols missing > 5% of of total data.\n",
    "drop_cols = mv_total[mv_total > (len_data * 0.05)]\n",
    "print(\"These columns are dropped for high missing value count:\")\n",
    "print(drop_cols.index)\n",
    "data = data.drop(drop_cols.index, axis=1)"
   ]
  },
  {
   "cell_type": "code",
   "execution_count": 9,
   "metadata": {
    "collapsed": false,
    "scrolled": true
   },
   "outputs": [
    {
     "name": "stdout",
     "output_type": "stream",
     "text": [
      "Mas Vnr Type        23\n",
      "Mas Vnr Area      2930\n",
      "Bsmt Qual           80\n",
      "Bsmt Cond           80\n",
      "Bsmt Exposure       83\n",
      "BsmtFin Type 1      80\n",
      "BsmtFin SF 1      2930\n",
      "BsmtFin Type 2      81\n",
      "BsmtFin SF 2      2930\n",
      "Bsmt Unf SF       2930\n",
      "Total Bsmt SF     2930\n",
      "Electrical           1\n",
      "Bsmt Full Bath    2930\n",
      "Bsmt Half Bath    2930\n",
      "Garage Cars       2930\n",
      "Garage Area       2930\n",
      "dtype: int64\n"
     ]
    }
   ],
   "source": [
    "##Missing Values - dropping text columns with mv\n",
    "text_mv = data.select_dtypes('object').isnull().sum()\n",
    "text_mv = text_mv[text_mv > 0]\n",
    "print(text_mv) \n",
    "data = data.drop(text_mv.index, axis=1)\n"
   ]
  },
  {
   "cell_type": "markdown",
   "metadata": {},
   "source": [
    "#### Drop Data Leak Columns / Capture Remodel Data\n",
    "\n",
    "Remove any columns that include information that wouldn't be knowable prior to the sale in order to make this model useful for predicting unsold houses later. This includes features that specify the sale date (month/year) and metadata for the transaction such as sale type or sale condition.\n",
    "\n",
    "A recent remodel is likely to be a factor in a home's sale price, however; I won't be able to calculate how many years passed between a remodel and a sale if I remove the sale year first. A comprimise is to create a 'yrs since remodel' column using the sale data and remodel date prior to removing the year sold. Assuming this model will be used in future production, the sale year could easily substituted out in this feature's calculation for the current date. As many homes have not been remodeled, this data will overlap with Year Built in terms of the information that it is providing to the model for many locations. With this feature in the model, it makes sense to drop Year Built as well as this will convey the same info for many homes."
   ]
  },
  {
   "cell_type": "code",
   "execution_count": 10,
   "metadata": {
    "collapsed": false
   },
   "outputs": [],
   "source": [
    "#Create 'yrs_since_remodel' feature. Remove nonsensical rows (< 0)\n",
    "data['yrs_since_remodel'] = data['Yr Sold'] - data['Year Remod/Add']\n",
    "neg_rows = data[data['yrs_since_remodel'] < 0].index\n",
    "data = data.drop(neg_rows)"
   ]
  },
  {
   "cell_type": "code",
   "execution_count": 11,
   "metadata": {
    "collapsed": false
   },
   "outputs": [],
   "source": [
    "#Drop Data Leak Columns - contain information not knowable prior to sale.\n",
    "data_leak_cols = ['Sale Condition', 'Yr Sold', 'Mo Sold', 'Sale Type']\n",
    "data = data.drop(data_leak_cols, axis=1)\n",
    "data = data.drop(['Year Built', 'Year Remod/Add'], axis=1)"
   ]
  },
  {
   "cell_type": "code",
   "execution_count": 12,
   "metadata": {
    "collapsed": false
   },
   "outputs": [],
   "source": [
    "#Drop PID, Order Description Columns\n",
    "data = data.drop(['PID', 'Order'], axis=1)\n"
   ]
  },
  {
   "cell_type": "code",
   "execution_count": 13,
   "metadata": {
    "collapsed": false,
    "scrolled": false
   },
   "outputs": [],
   "source": [
    "#drop extreme outlier records\n"
   ]
  },
  {
   "cell_type": "code",
   "execution_count": 14,
   "metadata": {
    "collapsed": false,
    "scrolled": true
   },
   "outputs": [
    {
     "name": "stdout",
     "output_type": "stream",
     "text": [
      "Street: 0.9959\n",
      "Utilities: 0.999\n",
      "Land Slope: 0.9518\n",
      "Condition 2: 0.9901\n",
      "Roof Matl: 0.9853\n",
      "Heating: 0.9846\n",
      "Low Qual Fin SF: 0.9863\n",
      "Kitchen AbvGr: 0.9542\n",
      "3Ssn Porch: 0.9874\n",
      "Pool Area: 0.9956\n",
      "Misc Val: 0.9652\n",
      "['Street', 'Utilities', 'Land Slope', 'Condition 2', 'Roof Matl', 'Heating', 'Low Qual Fin SF', 'Kitchen AbvGr', '3Ssn Porch', 'Pool Area', 'Misc Val']\n"
     ]
    }
   ],
   "source": [
    "#### Remove low-variance features (95%+ similar)\n",
    "low_var_cols = []\n",
    "for col in data.columns:\n",
    "    top_val_pct = data[col].value_counts().iloc[0] / data.shape[0]\n",
    "    if top_val_pct >= 0.95:\n",
    "        low_var_cols.append(col)\n",
    "        print(\"{}: {:.4}\".format(col, top_val_pct))\n",
    "print(low_var_cols)\n",
    "\n",
    "data = data.drop(low_var_cols, axis=1)"
   ]
  },
  {
   "cell_type": "code",
   "execution_count": 15,
   "metadata": {
    "collapsed": false
   },
   "outputs": [],
   "source": [
    "#Convert numeric/object columns that are nominal to categorical type\n",
    "categorical = ['MS SubClass', 'MS Zoning', 'Lot Shape',\n",
    "              'Land Contour', 'Lot Config', 'Neighborhood', \n",
    "               'Condition 1', 'Bldg Type', 'House Style',\n",
    "              'Roof Style', 'Exterior 1st', 'Exterior 2nd',\n",
    "              'Foundation', 'Central Air', 'Paved Drive']\n",
    "for col in categorical:\n",
    "    data[col] = data[col].astype('category')\n"
   ]
  },
  {
   "cell_type": "code",
   "execution_count": 16,
   "metadata": {
    "collapsed": false,
    "scrolled": true
   },
   "outputs": [
    {
     "name": "stdout",
     "output_type": "stream",
     "text": [
      "['Bedroom AbvGr', 'Enclosed Porch', 'Screen Porch', 'Overall Cond']\n",
      "Highest Coefficients (numerical columns):\n",
      "SalePrice            1.000000\n",
      "Overall Qual         0.801206\n",
      "Gr Liv Area          0.717596\n",
      "1st Flr SF           0.635185\n",
      "Full Bath            0.546118\n",
      "yrs_since_remodel    0.534985\n",
      "TotRms AbvGrd        0.498574\n",
      "Fireplaces           0.474831\n",
      "Wood Deck SF         0.328183\n",
      "Open Porch SF        0.316262\n",
      "Half Bath            0.284871\n",
      "2nd Flr SF           0.269601\n",
      "Name: SalePrice, dtype: float64\n"
     ]
    }
   ],
   "source": [
    "#Remove numerical features w/low correlation to target.\n",
    "numerical_cols = data.select_dtypes('int', 'float')\n",
    "abs_corrs = numerical_cols.corr().abs()\n",
    "sale_coeffs = abs_corrs['SalePrice'].sort_values(ascending=False)\n",
    "low_correlation_cols = list(sale_coeffs[sale_coeffs < 0.2].index)\n",
    "print(low_correlation_cols)\n",
    "data = data.drop(low_correlation_cols, axis=1)\n",
    "print(\"Highest Coefficients (numerical columns):\")\n",
    "print(sale_coeffs[:12])\n"
   ]
  },
  {
   "cell_type": "code",
   "execution_count": 17,
   "metadata": {
    "collapsed": false
   },
   "outputs": [
    {
     "name": "stdout",
     "output_type": "stream",
     "text": [
      "Index(['Overall Qual', 'Gr Liv Area', '1st Flr SF', 'Full Bath',\n",
      "       'yrs_since_remodel', 'TotRms AbvGrd', 'Fireplaces', 'Wood Deck SF',\n",
      "       'Open Porch SF', 'Half Bath', '2nd Flr SF', 'Lot Area'],\n",
      "      dtype='object')\n"
     ]
    }
   ],
   "source": [
    "#save ordered list of numerical features\n",
    "top_numerical = sale_coeffs.drop(low_correlation_cols)\n",
    "top_numerical = top_numerical.drop(\"SalePrice\").index\n",
    "print(top_numerical)"
   ]
  },
  {
   "cell_type": "code",
   "execution_count": 18,
   "metadata": {
    "collapsed": false
   },
   "outputs": [
    {
     "name": "stdout",
     "output_type": "stream",
     "text": [
      "Index(['MS SubClass', 'MS Zoning', 'Lot Area', 'Lot Shape', 'Land Contour',\n",
      "       'Lot Config', 'Neighborhood', 'Condition 1', 'Bldg Type', 'House Style',\n",
      "       'Overall Qual', 'Roof Style', 'Exterior 1st', 'Exterior 2nd',\n",
      "       'Exter Qual', 'Exter Cond', 'Foundation', 'Heating QC', 'Central Air',\n",
      "       '1st Flr SF', '2nd Flr SF', 'Gr Liv Area', 'Full Bath', 'Half Bath',\n",
      "       'Kitchen Qual', 'Functional', 'Fireplaces', 'Paved Drive',\n",
      "       'Wood Deck SF', 'Open Porch SF', 'SalePrice', 'yrs_since_remodel'],\n",
      "      dtype='object')\n"
     ]
    },
    {
     "data": {
      "image/png": "[encoded data removed]",
      "text/plain": [
       "<matplotlib.figure.Figure at 0x7fb2d81c8be0>"
      ]
     },
     "metadata": {},
     "output_type": "display_data"
    }
   ],
   "source": [
    "#Remove numerical collinear features - 'TotRms AbvGrd' and 'Gr Liv Area'\n",
    "numerical_cols = data.select_dtypes('int', 'float')\n",
    "abs_corrs = numerical_cols.corr().abs()\n",
    "sns.heatmap(abs_corrs)\n",
    "data = data.drop(\"TotRms AbvGrd\", axis=1)\n",
    "top_numerical = top_numerical.drop(\"TotRms AbvGrd\")\n",
    "print(data.columns)"
   ]
  },
  {
   "cell_type": "code",
   "execution_count": 19,
   "metadata": {
    "collapsed": false
   },
   "outputs": [],
   "source": [
    "#Convert ordinal objects to numerical scale.\n",
    "qual_map = {'Po': 1, 'Fa': 2, 'TA': 3, 'Gd': 4, 'Ex': 5}\n",
    "\n",
    "func_map = {'Typ': 1, 'Min1': 2, 'Min2': 3, 'Mod': 4, \n",
    "                    'Maj1': 5, 'Maj2': 6, 'Sev': 7, 'Sal': 8}\n",
    "\n",
    "object_scale_map = {'Exter Qual': qual_map, 'Exter Cond': qual_map, \n",
    "                'Heating QC': qual_map,'Kitchen Qual': qual_map, \n",
    "                'Functional': func_map}\n",
    "\n",
    "for key, scale in object_scale_map.items():\n",
    "    data[key] = data[key].map(scale)\n"
   ]
  },
  {
   "cell_type": "code",
   "execution_count": 20,
   "metadata": {
    "collapsed": false,
    "scrolled": false
   },
   "outputs": [
    {
     "name": "stdout",
     "output_type": "stream",
     "text": [
      "Lot Area\n",
      "Overall Qual\n",
      "Exter Qual\n",
      "Exter Cond\n",
      "Heating QC\n",
      "1st Flr SF\n",
      "2nd Flr SF\n",
      "Gr Liv Area\n",
      "Full Bath\n",
      "Half Bath\n",
      "Kitchen Qual\n",
      "Functional\n",
      "Fireplaces\n",
      "Wood Deck SF\n",
      "Open Porch SF\n",
      "SalePrice\n",
      "yrs_since_remodel\n",
      "MS SubClass_30\n",
      "MS SubClass_40\n",
      "MS SubClass_45\n",
      "MS SubClass_50\n",
      "MS SubClass_60\n",
      "MS SubClass_70\n",
      "MS SubClass_75\n",
      "MS SubClass_80\n",
      "MS SubClass_85\n",
      "MS SubClass_90\n",
      "MS SubClass_120\n",
      "MS SubClass_150\n",
      "MS SubClass_160\n",
      "MS SubClass_180\n",
      "MS SubClass_190\n",
      "MS Zoning_C (all)\n",
      "MS Zoning_FV\n",
      "MS Zoning_I (all)\n",
      "MS Zoning_RH\n",
      "MS Zoning_RL\n",
      "MS Zoning_RM\n",
      "Lot Shape_IR2\n",
      "Lot Shape_IR3\n",
      "Lot Shape_Reg\n",
      "Land Contour_HLS\n",
      "Land Contour_Low\n",
      "Land Contour_Lvl\n",
      "Lot Config_CulDSac\n",
      "Lot Config_FR2\n",
      "Lot Config_FR3\n",
      "Lot Config_Inside\n",
      "Neighborhood_Blueste\n",
      "Neighborhood_BrDale\n",
      "Neighborhood_BrkSide\n",
      "Neighborhood_ClearCr\n",
      "Neighborhood_CollgCr\n",
      "Neighborhood_Crawfor\n",
      "Neighborhood_Edwards\n",
      "Neighborhood_Gilbert\n",
      "Neighborhood_Greens\n",
      "Neighborhood_GrnHill\n",
      "Neighborhood_IDOTRR\n",
      "Neighborhood_Landmrk\n",
      "Neighborhood_MeadowV\n",
      "Neighborhood_Mitchel\n",
      "Neighborhood_NAmes\n",
      "Neighborhood_NPkVill\n",
      "Neighborhood_NWAmes\n",
      "Neighborhood_NoRidge\n",
      "Neighborhood_NridgHt\n",
      "Neighborhood_OldTown\n",
      "Neighborhood_SWISU\n",
      "Neighborhood_Sawyer\n",
      "Neighborhood_SawyerW\n",
      "Neighborhood_Somerst\n",
      "Neighborhood_StoneBr\n",
      "Neighborhood_Timber\n",
      "Neighborhood_Veenker\n",
      "Condition 1_Feedr\n",
      "Condition 1_Norm\n",
      "Condition 1_PosA\n",
      "Condition 1_PosN\n",
      "Condition 1_RRAe\n",
      "Condition 1_RRAn\n",
      "Condition 1_RRNe\n",
      "Condition 1_RRNn\n",
      "Bldg Type_2fmCon\n",
      "Bldg Type_Duplex\n",
      "Bldg Type_Twnhs\n",
      "Bldg Type_TwnhsE\n",
      "House Style_1.5Unf\n",
      "House Style_1Story\n",
      "House Style_2.5Fin\n",
      "House Style_2.5Unf\n",
      "House Style_2Story\n",
      "House Style_SFoyer\n",
      "House Style_SLvl\n",
      "Roof Style_Gable\n",
      "Roof Style_Gambrel\n",
      "Roof Style_Hip\n",
      "Roof Style_Mansard\n",
      "Roof Style_Shed\n",
      "Exterior 1st_AsphShn\n",
      "Exterior 1st_BrkComm\n",
      "Exterior 1st_BrkFace\n",
      "Exterior 1st_CBlock\n",
      "Exterior 1st_CemntBd\n",
      "Exterior 1st_HdBoard\n",
      "Exterior 1st_ImStucc\n",
      "Exterior 1st_MetalSd\n",
      "Exterior 1st_Plywood\n",
      "Exterior 1st_PreCast\n",
      "Exterior 1st_Stone\n",
      "Exterior 1st_Stucco\n",
      "Exterior 1st_VinylSd\n",
      "Exterior 1st_Wd Sdng\n",
      "Exterior 1st_WdShing\n",
      "Exterior 2nd_AsphShn\n",
      "Exterior 2nd_Brk Cmn\n",
      "Exterior 2nd_BrkFace\n",
      "Exterior 2nd_CBlock\n",
      "Exterior 2nd_CmentBd\n",
      "Exterior 2nd_HdBoard\n",
      "Exterior 2nd_ImStucc\n",
      "Exterior 2nd_MetalSd\n",
      "Exterior 2nd_Other\n",
      "Exterior 2nd_Plywood\n",
      "Exterior 2nd_PreCast\n",
      "Exterior 2nd_Stone\n",
      "Exterior 2nd_Stucco\n",
      "Exterior 2nd_VinylSd\n",
      "Exterior 2nd_Wd Sdng\n",
      "Exterior 2nd_Wd Shng\n",
      "Foundation_CBlock\n",
      "Foundation_PConc\n",
      "Foundation_Slab\n",
      "Foundation_Stone\n",
      "Foundation_Wood\n",
      "Central Air_Y\n",
      "Paved Drive_P\n",
      "Paved Drive_Y\n"
     ]
    }
   ],
   "source": [
    "#Convert remaining category features to binary dummy features\n",
    "category_cols = data.select_dtypes('category').columns\n",
    "for col in category_cols:\n",
    "    dummy_col = pd.get_dummies(data[col], prefix=col, drop_first=True)\n",
    "    data = pd.concat([data, dummy_col], axis=1)\n",
    "    data = data.drop(col, axis=1)\n",
    "for col in data.columns:  \n",
    "    print(col)  #Print cols for reference\n",
    "    "
   ]
  },
  {
   "cell_type": "code",
   "execution_count": 21,
   "metadata": {
    "collapsed": false
   },
   "outputs": [],
   "source": [
    "#save category col lists\n",
    "neighborhood = [col for col in data.columns if 'Neighborhood' in col]\n",
    "ms_subclass = [col for col in data.columns if \"MS SubClass\" in col]\n",
    "ms_zoning = [col for col in data.columns if \"MS Zoning\" in col]\n",
    "lot_shape = [col for col in data.columns if \"Lot Shape\" in col]\n",
    "land_contour = [col for col in data.columns if \"Land Contour\" in col]\n",
    "lot_config = [col for col in data.columns if \"Lot Config\" in col]\n",
    "condition_1 = [col for col in data.columns if \"Condition 1\" in col]\n",
    "bldg_type = [col for col in data.columns if \"Bldg Type\" in col]\n",
    "house_style = [col for col in data.columns if \"House Style\" in col]\n",
    "roof_style = [col for col in data.columns if \"Roof Style\" in col]\n",
    "exterior_first = [col for col in data.columns if \"Exterior 1st\" in col]\n",
    "exterior_second = [col for col in data.columns if \"Exterior 2nd\" in col]\n",
    "foundation = [col for col in data.columns if \"Foundation\" in col]\n",
    "central_air = [col for col in data.columns if \"Central Air\" in col]\n",
    "paved_drive = [col for col in data.columns if \"Paved Drive\" in col]\n",
    "\n",
    "category_list = [neighborhood, ms_subclass, ms_zoning, lot_shape,\n",
    "                land_contour, lot_config, condition_1, bldg_type,\n",
    "                house_style, roof_style, exterior_first, exterior_second,\n",
    "                foundation, central_air, paved_drive]\n"
   ]
  },
  {
   "cell_type": "markdown",
   "metadata": {},
   "source": [
    "#### Outlier handling\n"
   ]
  },
  {
   "cell_type": "code",
   "execution_count": 22,
   "metadata": {
    "collapsed": false
   },
   "outputs": [
    {
     "data": {
      "image/png": "[encoded data removed]",
      "text/plain": [
       "<matplotlib.figure.Figure at 0x7fb2d5dff908>"
      ]
     },
     "metadata": {},
     "output_type": "display_data"
    }
   ],
   "source": [
    "#Remove very large, very inexpensive properties.\n",
    "fig, ax = plt.subplots()\n",
    "ax.scatter(x = data['Gr Liv Area'], y = data['SalePrice'])\n",
    "plt.ylabel('SalePrice', fontsize=13)\n",
    "plt.xlabel('GrLivArea', fontsize=13)\n",
    "plt.show()\n",
    "\n",
    "data = data[data['Gr Liv Area'] < 5000]"
   ]
  },
  {
   "cell_type": "markdown",
   "metadata": {},
   "source": [
    "#### Normalize Data"
   ]
  },
  {
   "cell_type": "code",
   "execution_count": 23,
   "metadata": {
    "collapsed": false,
    "scrolled": true
   },
   "outputs": [],
   "source": [
    "#Normalize all columns except target using Min-Max\n",
    "scaler = MinMaxScaler()\n",
    "scaler_list = list(data.columns)\n",
    "scaler_list.remove('SalePrice')\n",
    "data[scaler_list] = scaler.fit_transform(data[scaler_list])"
   ]
  },
  {
   "cell_type": "markdown",
   "metadata": {
    "collapsed": true
   },
   "source": [
    "#### Update helper functions: \n",
    "- transform_features() to include Missing Values handling\n",
    "- transform_features() to add 'yrs_since_remodel' / drop 'Year Built' / Remove nonsensical 'yrs_since_remodel' cases\n",
    "- transform_features() to drop data leak columns\n",
    "- transform_features() to drop PID and Order columns\n",
    "- transform_features() to drop low variance columns\n",
    "- transform_features() to convert numerical nominal data to category dtype\n",
    "- transform_features() to drop numerical columns with low corr to target.\n",
    "- transform_features() to convert ordinal categorical to numeric scale\n",
    "- transform_features() to normalize data"
   ]
  },
  {
   "cell_type": "code",
   "execution_count": 38,
   "metadata": {
    "collapsed": false
   },
   "outputs": [],
   "source": [
    "def transform_features(a_dataframe):\n",
    "    df = a_dataframe.copy()\n",
    "    \n",
    "    #MVs - fillna for numerical cols w/less than 5% MV.\n",
    "    len_data = df.shape[0]\n",
    "    mv_total = df.isnull().sum()\n",
    "    mv_fill = mv_total[(mv_total < (len_data * .05)) & (mv_total > 0)]\n",
    "    for col in mv_fill.index:\n",
    "        if df[col].dtype in ('int', 'float'):\n",
    "            mode = df[col].mode()\n",
    "            df[col] = df[col].fillna(mode, inplace=True)\n",
    "            \n",
    "    ##MVs - drop cols missing > 5% of of total data.\n",
    "    drop_cols = mv_total[mv_total > (len_data * 0.05)]\n",
    "    df = df.drop(drop_cols.index, axis=1)\n",
    "\n",
    "    ##MVs - dropping text columns with mv\n",
    "    text_mv = df.select_dtypes('object').isnull().sum()\n",
    "    text_mv = text_mv[text_mv > 0]\n",
    "    df = df.drop(text_mv.index, axis=1)\n",
    "\n",
    "    #Create 'yrs_since_remodel' feature / drop Year Built\n",
    "    df['yrs_since_remodel'] = df['Yr Sold'] - df['Year Remod/Add']\n",
    "    neg_rows = df[df['yrs_since_remodel'] < 0].index\n",
    "    df = df.drop(neg_rows)\n",
    "   \n",
    "    #Drop Data Leak Columns - contain information not knowable prior to sale.\n",
    "    data_leak_cols = ['Sale Condition', 'Yr Sold', 'Mo Sold', 'Sale Type']\n",
    "    df = df.drop(data_leak_cols, axis=1)\n",
    "    df = df.drop(['Year Built', 'Year Remod/Add'], axis=1)\n",
    "    \n",
    "    #Drop PID, Order Description Columns\n",
    "    df = df.drop(['PID', 'Order'], axis=1)\n",
    "    \n",
    "    #Drop Low Variance Columns\n",
    "    low_var_cols = []\n",
    "    for col in df.columns:\n",
    "        top_val_pct = df[col].value_counts().iloc[0] / df.shape[0]\n",
    "        if top_val_pct >= 0.95:\n",
    "            low_var_cols.append(col)\n",
    "    df = df.drop(low_var_cols, axis=1)\n",
    "    \n",
    "    #Convert numeric/object columns that are nominal to categorical type\n",
    "    categorical = ['MS SubClass', 'MS Zoning', 'Lot Shape',\n",
    "                  'Land Contour', 'Lot Config', 'Neighborhood', \n",
    "                   'Condition 1', 'Bldg Type', 'House Style',\n",
    "                  'Roof Style', 'Exterior 1st', 'Exterior 2nd',\n",
    "                  'Foundation', 'Central Air', 'Paved Drive']\n",
    "    for col in categorical:\n",
    "        df[col] = df[col].astype('category')\n",
    "        \n",
    "    #Remove numerical features w/low correlation to target.\n",
    "    numerical_cols = df.select_dtypes('int', 'float')\n",
    "    abs_corrs = numerical_cols.corr().abs()\n",
    "    sale_coeffs = abs_corrs['SalePrice'].sort_values()\n",
    "    low_correlation_cols = list(sale_coeffs[sale_coeffs < 0.2].index)\n",
    "    df = df.drop(low_correlation_cols, axis=1)\n",
    "    \n",
    "    #Remove numerical collinear features - 'TotRms AbvGrd' or 'Gr Liv Area'\n",
    "    numerical_cols = df.select_dtypes('int', 'float')\n",
    "    abs_corrs = numerical_cols.corr().abs()\n",
    "    df = df.drop(\"TotRms AbvGrd\", axis=1)\n",
    "    \n",
    "    #Convert ordinal objects to numerical scale.\n",
    "    qual_map = {'Po': 1, 'Fa': 2, \n",
    "                'TA': 3, 'Gd': 4, \n",
    "                'Ex': 5}\n",
    "    \n",
    "    func_map = {'Typ': 1, 'Min1': 2, 'Min2': 3, \n",
    "                'Mod': 4, 'Maj1': 5, 'Maj2': 6, \n",
    "                'Sev': 7, 'Sal': 8}\n",
    "    \n",
    "    object_scale_map = {'Exter Qual': qual_map, \n",
    "                        'Exter Cond': qual_map, \n",
    "                        'Heating QC': qual_map,\n",
    "                        'Kitchen Qual': qual_map,\n",
    "                        'Functional': func_map}\n",
    "\n",
    "    for key, scale in object_scale_map.items():\n",
    "        df[key] = df[key].map(scale)\n",
    "        \n",
    "    #Convert remaining category features to binary dummy features\n",
    "    category_cols = df.select_dtypes('category').columns\n",
    "    for col in category_cols:\n",
    "        dummy_col = pd.get_dummies(df[col], prefix=col, drop_first=True)\n",
    "        df = pd.concat([df, dummy_col], axis=1)\n",
    "        df = df.drop(col, axis=1)\n",
    "        \n",
    "    #Outlier handling\n",
    "    df = df[df['Gr Liv Area'] < 5000]\n",
    "        \n",
    "    #Normalize all columns except target using Min-Max\n",
    "    scaler = MinMaxScaler()\n",
    "    scaler_list = list(df.columns)\n",
    "    scaler_list.remove('SalePrice')\n",
    "    df[scaler_list] = scaler.fit_transform(df[scaler_list])\n",
    "    \n",
    "    return df\n",
    "\n",
    "def select_features(df):\n",
    "    df = df.copy()\n",
    "    feature_list = [\"MS SubClass_30\",\n",
    "                \"MS SubClass_40\",\n",
    "                \"MS SubClass_45\",\n",
    "                \"MS SubClass_50\",\n",
    "                \"MS SubClass_70\",\n",
    "                \"MS SubClass_75\",\n",
    "                \"MS SubClass_80\",\n",
    "                \"MS SubClass_85\",\n",
    "                \"MS SubClass_90\",\n",
    "                \"MS SubClass_120\",\n",
    "                \"MS SubClass_150\",\n",
    "                \"MS SubClass_160\",\n",
    "                \"MS SubClass_180\",\n",
    "                \"MS SubClass_190\"]\n",
    "    feature_list.append('SalePrice')\n",
    "    df = df[feature_list]\n",
    "    return df\n",
    "    \n",
    "def train_and_test(df, k=0):\n",
    "    #df shape\n",
    "    half_split = int(df.shape[0] / 2)\n",
    "    \n",
    "    #If k==0, 50/50 holdout validation\n",
    "    if k == 0:\n",
    "        #partition data\n",
    "        train = df[:half_split]\n",
    "        test = df[half_split:]\n",
    "\n",
    "        #Select features\n",
    "        train_df = select_features(train)\n",
    "        train_numeric = train_df.select_dtypes(include=['integer', 'float'])\n",
    "        features = train_numeric.columns.drop(\"SalePrice\")\n",
    "\n",
    "        #fit and measure model performance - Linear Regression\n",
    "        lr = LinearRegression()\n",
    "        lr.fit(train_numeric[features], train_numeric['SalePrice'])\n",
    "        test_predict = lr.predict(test[features])\n",
    "        mse_test = mean_squared_error(test['SalePrice'], test_predict)\n",
    "        rmse_test = np.sqrt(mse_test)\n",
    "        return rmse_test\n",
    "    \n",
    "    #k==1, 50/50 cross validation\n",
    "    if k == 1:\n",
    "        rmses = []\n",
    "        #shuffle data and partition to two folds\n",
    "        shuffled_df = df.sample(frac=1, random_state=1)\n",
    "        fold_one = shuffled_df[:half_split]\n",
    "        fold_two = shuffled_df[half_split:]\n",
    "        \n",
    "        #train on fold 1, test on fold 2\n",
    "        train = fold_one\n",
    "        test = fold_two\n",
    "        \n",
    "        #Select features\n",
    "        train_df = select_features(train)\n",
    "        train_numeric = train_df.select_dtypes(include=['integer', 'float'])\n",
    "        features = train_numeric.columns.drop(\"SalePrice\")\n",
    "\n",
    "        #fit and measure model performance - Linear Regression\n",
    "        lr = LinearRegression()\n",
    "        lr.fit(train_numeric[features], train_numeric['SalePrice'])\n",
    "        test_predict = lr.predict(test[features])\n",
    "        mse_test = mean_squared_error(test['SalePrice'], test_predict)\n",
    "        rmses.append(np.sqrt(mse_test))\n",
    "        \n",
    "        #train on fold 2, test on fold 1  (CROSS-VALIDATE)\n",
    "        train = fold_two\n",
    "        test = fold_one\n",
    "        \n",
    "        #Select features  (CROSS-VALIDATE)\n",
    "        train_df = select_features(train)\n",
    "        train_numeric = train_df.select_dtypes(include=['integer', 'float'])\n",
    "        features = train_numeric.columns.drop(\"SalePrice\")\n",
    "\n",
    "        #fit and measure model performance - Linear Regression  (CROSS-VALIDATE)\n",
    "        lr = LinearRegression()\n",
    "        lr.fit(train_numeric[features], train_numeric['SalePrice'])\n",
    "        test_predict = lr.predict(test[features])\n",
    "        mse_test = mean_squared_error(test['SalePrice'], test_predict)\n",
    "        rmses.append(np.sqrt(mse_test))\n",
    "        \n",
    "        return np.mean(rmses)\n",
    "    \n",
    "    #If k > 1, K-Folds cross-validation\n",
    "    if k > 1:\n",
    "        rmses = []\n",
    "        kf = KFold(n_splits=k, random_state=1, shuffle=True)\n",
    "        \n",
    "        for train_index, test_index, in kf.split(df):\n",
    "            train = df.iloc[train_index]\n",
    "            test = df.iloc[test_index]\n",
    "            \n",
    "            #Select features\n",
    "            train_df = select_features(train)\n",
    "            train_numeric = train_df.select_dtypes(include=['integer', 'float'])\n",
    "            features = train_numeric.columns.drop(\"SalePrice\") \n",
    "\n",
    "            #fit and measure model performance - Linear Regression\n",
    "            lr = LinearRegression()\n",
    "            lr.fit(train_numeric[features], train_numeric['SalePrice'])\n",
    "            test_predict = lr.predict(test[features])\n",
    "            mse_test = mean_squared_error(test['SalePrice'], test_predict)\n",
    "        rmses.append(np.sqrt(mse_test))\n",
    "        \n",
    "        return np.mean(rmses)\n"
   ]
  },
  {
   "cell_type": "markdown",
   "metadata": {},
   "source": [
    "## Categorical Feature ranking\n",
    "\n",
    "Test linear model performance using each group of dummy variables.\n",
    "\n",
    "#### Univariate models:"
   ]
  },
  {
   "cell_type": "code",
   "execution_count": 39,
   "metadata": {
    "collapsed": false
   },
   "outputs": [],
   "source": [
    "#Reload data and test updated model\n",
    "def reload_and_test(k=0):\n",
    "    test_data = pd.read_csv('AmesHousing.tsv', delimiter='\\t')\n",
    "    data_transformed = transform_features(test_data)\n",
    "    return train_and_test(data_transformed, k=k)\n",
    "    "
   ]
  },
  {
   "cell_type": "code",
   "execution_count": 40,
   "metadata": {
    "collapsed": false
   },
   "outputs": [
    {
     "name": "stdout",
     "output_type": "stream",
     "text": [
      "['Neighborhood_Blueste', 'Neighborhood_BrDale', 'Neighborhood_BrkSide', 'Neighborhood_ClearCr', 'Neighborhood_CollgCr', 'Neighborhood_Crawfor', 'Neighborhood_Edwards', 'Neighborhood_Gilbert', 'Neighborhood_Greens', 'Neighborhood_GrnHill', 'Neighborhood_IDOTRR', 'Neighborhood_Landmrk', 'Neighborhood_MeadowV', 'Neighborhood_Mitchel', 'Neighborhood_NAmes', 'Neighborhood_NPkVill', 'Neighborhood_NWAmes', 'Neighborhood_NoRidge', 'Neighborhood_NridgHt', 'Neighborhood_OldTown', 'Neighborhood_SWISU', 'Neighborhood_Sawyer', 'Neighborhood_SawyerW', 'Neighborhood_Somerst', 'Neighborhood_StoneBr', 'Neighborhood_Timber', 'Neighborhood_Veenker']: \\ \n",
      "54139.72193593212\n",
      "\n",
      "['MS SubClass_30', 'MS SubClass_40', 'MS SubClass_45', 'MS SubClass_50', 'MS SubClass_60', 'MS SubClass_70', 'MS SubClass_75', 'MS SubClass_80', 'MS SubClass_85', 'MS SubClass_90', 'MS SubClass_120', 'MS SubClass_150', 'MS SubClass_160', 'MS SubClass_180', 'MS SubClass_190']: \\ \n",
      "72184.39885155756\n",
      "\n",
      "['MS Zoning_C (all)', 'MS Zoning_FV', 'MS Zoning_I (all)', 'MS Zoning_RH', 'MS Zoning_RL', 'MS Zoning_RM']: \\ \n",
      "77078.22332449601\n",
      "\n",
      "['Lot Shape_IR2', 'Lot Shape_IR3', 'Lot Shape_Reg']: \\ \n",
      "79381.49421658835\n",
      "\n",
      "['Land Contour_HLS', 'Land Contour_Low', 'Land Contour_Lvl']: \\ \n",
      "79592.53579070853\n",
      "\n",
      "['Lot Config_CulDSac', 'Lot Config_FR2', 'Lot Config_FR3', 'Lot Config_Inside']: \\ \n",
      "81236.55665657308\n",
      "\n",
      "['Condition 1_Feedr', 'Condition 1_Norm', 'Condition 1_PosA', 'Condition 1_PosN', 'Condition 1_RRAe', 'Condition 1_RRAn', 'Condition 1_RRNe', 'Condition 1_RRNn']: \\ \n",
      "80367.83486503991\n",
      "\n",
      "['Bldg Type_2fmCon', 'Bldg Type_Duplex', 'Bldg Type_Twnhs', 'Bldg Type_TwnhsE']: \\ \n",
      "80435.06728789864\n",
      "\n",
      "['House Style_1.5Unf', 'House Style_1Story', 'House Style_2.5Fin', 'House Style_2.5Unf', 'House Style_2Story', 'House Style_SFoyer', 'House Style_SLvl']: \\ \n",
      "79088.56305686985\n",
      "\n",
      "['Roof Style_Gable', 'Roof Style_Gambrel', 'Roof Style_Hip', 'Roof Style_Mansard', 'Roof Style_Shed']: \\ \n",
      "78507.68532630177\n",
      "\n",
      "['Exterior 1st_AsphShn', 'Exterior 1st_BrkComm', 'Exterior 1st_BrkFace', 'Exterior 1st_CBlock', 'Exterior 1st_CemntBd', 'Exterior 1st_HdBoard', 'Exterior 1st_ImStucc', 'Exterior 1st_MetalSd', 'Exterior 1st_Plywood', 'Exterior 1st_PreCast', 'Exterior 1st_Stone', 'Exterior 1st_Stucco', 'Exterior 1st_VinylSd', 'Exterior 1st_Wd Sdng', 'Exterior 1st_WdShing']: \\ \n",
      "75261.7299985971\n",
      "\n",
      "['Exterior 2nd_AsphShn', 'Exterior 2nd_Brk Cmn', 'Exterior 2nd_BrkFace', 'Exterior 2nd_CBlock', 'Exterior 2nd_CmentBd', 'Exterior 2nd_HdBoard', 'Exterior 2nd_ImStucc', 'Exterior 2nd_MetalSd', 'Exterior 2nd_Other', 'Exterior 2nd_Plywood', 'Exterior 2nd_PreCast', 'Exterior 2nd_Stone', 'Exterior 2nd_Stucco', 'Exterior 2nd_VinylSd', 'Exterior 2nd_Wd Sdng', 'Exterior 2nd_Wd Shng']: \\ \n",
      "76217.84333713555\n",
      "\n",
      "['Foundation_CBlock', 'Foundation_PConc', 'Foundation_Slab', 'Foundation_Stone', 'Foundation_Wood']: \\ \n",
      "69087.634958147\n",
      "\n",
      "['Central Air_Y']: \\ \n",
      "78773.64166417203\n",
      "\n",
      "['Paved Drive_P', 'Paved Drive_Y']: \\ \n",
      "78577.02450102076\n",
      "\n"
     ]
    }
   ],
   "source": [
    "for col in category_list:\n",
    "    def select_features(df):\n",
    "        df = df.copy()\n",
    "        feature_list = []\n",
    "        feature_list = col.copy()\n",
    "        feature_list.append('SalePrice')\n",
    "        df = df[feature_list]\n",
    "        return df\n",
    "    score = reload_and_test(k=4)\n",
    "    print(\"{}: \\ \\n{}\\n\".format(col, score))\n",
    "    "
   ]
  },
  {
   "cell_type": "code",
   "execution_count": 41,
   "metadata": {
    "collapsed": false,
    "scrolled": true
   },
   "outputs": [
    {
     "name": "stdout",
     "output_type": "stream",
     "text": [
      "Overall Qual: \\ \n",
      "47713.260408321\n",
      "\n",
      "Gr Liv Area: \\ \n",
      "55027.72537721192\n",
      "\n",
      "1st Flr SF: \\ \n",
      "61206.04216610615\n",
      "\n",
      "Full Bath: \\ \n",
      "67074.68115107407\n",
      "\n",
      "yrs_since_remodel: \\ \n",
      "67509.94446346826\n",
      "\n",
      "Fireplaces: \\ \n",
      "70255.41870388444\n",
      "\n",
      "Wood Deck SF: \\ \n",
      "75467.52509991688\n",
      "\n",
      "Open Porch SF: \\ \n",
      "75767.42488983343\n",
      "\n",
      "Half Bath: \\ \n",
      "76636.08190214586\n",
      "\n",
      "2nd Flr SF: \\ \n",
      "77100.28402725038\n",
      "\n",
      "Lot Area: \\ \n",
      "76917.59660535945\n",
      "\n"
     ]
    }
   ],
   "source": [
    "#Univariate testing on numerical cols\n",
    "for col in top_numerical:\n",
    "    def select_features(df):\n",
    "        df = df.copy()\n",
    "        feature_list = [col]\n",
    "        feature_list.append('SalePrice')\n",
    "        df = df[feature_list]\n",
    "        return df\n",
    "    score = reload_and_test(k=1)\n",
    "    print(\"{}: \\ \\n{}\\n\".format(col, score))\n",
    "    \n"
   ]
  },
  {
   "cell_type": "markdown",
   "metadata": {},
   "source": [
    "## Multivariate Models"
   ]
  },
  {
   "cell_type": "code",
   "execution_count": 42,
   "metadata": {
    "collapsed": true
   },
   "outputs": [],
   "source": [
    "category_list = [neighborhood, ms_subclass, ms_zoning, lot_shape,\n",
    "                land_contour, lot_config, condition_1, bldg_type,\n",
    "                house_style, roof_style, exterior_first, exterior_second,\n",
    "                foundation, central_air, paved_drive]"
   ]
  },
  {
   "cell_type": "code",
   "execution_count": 43,
   "metadata": {
    "collapsed": false,
    "scrolled": false
   },
   "outputs": [
    {
     "name": "stdout",
     "output_type": "stream",
     "text": [
      "{1: 48935.0, 2: 39362.0, 3: 36806.0, 4: 36792.0, 5: 35950.0, 6: 35725.0, 7: 35344.0, 8: 35430.0, 9: 35489.0, 10: 35387.0, 11: 35135.0}\n"
     ]
    },
    {
     "data": {
      "text/plain": [
       "(0, 11)"
      ]
     },
     "execution_count": 43,
     "metadata": {},
     "output_type": "execute_result"
    },
    {
     "data": {
      "image/png": "[encoded data removed]",
      "text/plain": [
       "<matplotlib.figure.Figure at 0x7fb2d5e29940>"
      ]
     },
     "metadata": {},
     "output_type": "display_data"
    }
   ],
   "source": [
    "#multivariate numerical cols\n",
    "feature_count_score = {}\n",
    "\n",
    "for i in range(1, len(top_numerical) + 1):\n",
    "    feature_count_score[i] = 0\n",
    "    def select_features(df):\n",
    "        df = df.copy()\n",
    "        feature_list = list(top_numerical[:i])\n",
    "        feature_list.append('SalePrice')\n",
    "        feature_list = feature_list\n",
    "        df = df[feature_list]\n",
    "        return df\n",
    "    feature_count_score[i] = round(reload_and_test(),0)\n",
    "\n",
    "print(feature_count_score)\n",
    "for key, value in feature_count_score.items():\n",
    "    plt.scatter(key, value)\n",
    "plt.xlabel('N top feature count')\n",
    "plt.ylabel(\"RMSE\")\n",
    "plt.xlim((0, len(top_numerical)))"
   ]
  },
  {
   "cell_type": "code",
   "execution_count": 44,
   "metadata": {
    "collapsed": false
   },
   "outputs": [
    {
     "name": "stdout",
     "output_type": "stream",
     "text": [
      "{1: 40068.0, 2: 31171.0, 3: 30949.0, 4: 30920.0, 5: 30740.0, 6: 30469.0, 7: 30266.0, 8: 30215.0, 9: 30183.0, 10: 30172.0, 11: 29709.0}\n"
     ]
    }
   ],
   "source": [
    "#multivariate numerical + category cols\n",
    "feature_count_score = {}\n",
    "\n",
    "for i in range(1, len(top_numerical) + 1):\n",
    "    feature_count_score[i] = 0\n",
    "    def select_features(df):\n",
    "        df = df.copy()\n",
    "        feature_list = (list(top_numerical[:i]) \n",
    "                        + neighborhood\n",
    "                        + central_air\n",
    "                        + foundation\n",
    "                        + lot_shape\n",
    "                        + land_contour\n",
    "                        + lot_config\n",
    "                        + bldg_type\n",
    "                        + house_style\n",
    "                        + roof_style)\n",
    "        feature_list.append('SalePrice')\n",
    "        feature_list = feature_list\n",
    "        df = df[feature_list]\n",
    "        return df\n",
    "    feature_count_score[i] = round(reload_and_test(k=4),0)\n",
    "\n",
    "print(feature_count_score)"
   ]
  },
  {
   "cell_type": "markdown",
   "metadata": {
    "collapsed": true
   },
   "source": [
    "## Strongest model: \n",
    "\n",
    "RMSE = $29,709 \n",
    "- k=4\n",
    " - feature_list = (list(top_numerical[:11]) \n",
    "                        + neighborhood\n",
    "                        + central_air\n",
    "                        + foundation\n",
    "                        + lot_shape\n",
    "                        + land_contour\n",
    "                        + lot_config\n",
    "                        + bldg_type\n",
    "                        + house_style\n",
    "                        + roof_style)\n"
   ]
  },
  {
   "cell_type": "markdown",
   "metadata": {
    "collapsed": true
   },
   "source": [
    "# Improving this model (later):\n",
    "\n",
    "1. In re-reading the data notes, some of the columns with missing values actually impute info about the data - pool for example. Null = no pool. This could bring several columns back in.\n",
    "2. An ensemble model would likely improve the accuracy of predictions. For example, running a knn prediction and averaging it with the linear regression result."
   ]
  },
  {
   "cell_type": "code",
   "execution_count": null,
   "metadata": {
    "collapsed": true
   },
   "outputs": [],
   "source": []
  }
 ],
 "metadata": {
  "anaconda-cloud": {},
  "kernelspec": {
   "display_name": "Python 3",
   "language": "python",
   "name": "python3"
  },
  "language_info": {
   "codemirror_mode": {
    "name": "ipython",
    "version": 3
   },
   "file_extension": ".py",
   "mimetype": "text/x-python",
   "name": "python",
   "nbconvert_exporter": "python",
   "pygments_lexer": "ipython3",
   "version": "3.4.3"
  }
 },
 "nbformat": 4,
 "nbformat_minor": 2
}
