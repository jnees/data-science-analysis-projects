{
 "cells": [
  {
   "cell_type": "markdown",
   "metadata": {
    "collapsed": true
   },
   "source": [
    "# Guided Project: ML | Predicting Bike Rentals\n",
    "\n",
    "The goal of this project is to compare the performance of various ML models on the task of predicting hourly bike rentals.\n",
    "\n",
    "The dataset contains 17380 observations of hourly bike share data from Washington, DC. In addition volume data, features include information about the local weather, the rider, and the day. The dataset was compiled by [Hadi Fanaee-T ad the University of Porto](http://www.liaad.up.pt/area/fanaee) and can be downloaded [here](http://archive.ics.uci.edu/ml/datasets/Bike+Sharing+Dataset)."
   ]
  },
  {
   "cell_type": "markdown",
   "metadata": {},
   "source": [
    "## Libraries"
   ]
  },
  {
   "cell_type": "code",
   "execution_count": 1,
   "metadata": {
    "collapsed": false
   },
   "outputs": [],
   "source": [
    "import pandas as pd\n",
    "import matplotlib.pyplot as plt\n",
    "%matplotlib inline\n",
    "import numpy as np\n",
    "import seaborn as sns\n",
    "from datetime import datetime\n",
    "from sklearn.model_selection import KFold\n",
    "from sklearn.linear_model import LinearRegression\n",
    "from sklearn.metrics import mean_squared_error\n",
    "from scipy.stats import describe\n",
    "from sklearn.tree import DecisionTreeRegressor\n",
    "from sklearn.ensemble import RandomForestRegressor\n",
    "from sklearn import tree"
   ]
  },
  {
   "cell_type": "markdown",
   "metadata": {},
   "source": [
    "## Data Import"
   ]
  },
  {
   "cell_type": "code",
   "execution_count": 2,
   "metadata": {
    "collapsed": false
   },
   "outputs": [
    {
     "name": "stdout",
     "output_type": "stream",
     "text": [
      "   instant      dteday  season  yr  mnth  hr  holiday  weekday  workingday  \\\n",
      "0        1  2011-01-01       1   0     1   0        0        6           0   \n",
      "1        2  2011-01-01       1   0     1   1        0        6           0   \n",
      "2        3  2011-01-01       1   0     1   2        0        6           0   \n",
      "3        4  2011-01-01       1   0     1   3        0        6           0   \n",
      "4        5  2011-01-01       1   0     1   4        0        6           0   \n",
      "\n",
      "   weathersit  temp   atemp   hum  windspeed  casual  registered  cnt  \n",
      "0           1  0.24  0.2879  0.81        0.0       3          13   16  \n",
      "1           1  0.22  0.2727  0.80        0.0       8          32   40  \n",
      "2           1  0.22  0.2727  0.80        0.0       5          27   32  \n",
      "3           1  0.24  0.2879  0.75        0.0       3          10   13  \n",
      "4           1  0.24  0.2879  0.75        0.0       0           1    1  \n"
     ]
    }
   ],
   "source": [
    "df = pd.read_csv(\"bike_rental_hour.csv\")\n",
    "print(df.head())"
   ]
  },
  {
   "cell_type": "markdown",
   "metadata": {},
   "source": [
    "#### Relevant column descriptions:\n",
    "\n",
    "- **instant** - A unique sequential ID number for each row\n",
    "- **dteday** - The date of the rentals\n",
    "- **season** - The season in which the rentals occurred\n",
    "- **yr** - The year the rentals occurred\n",
    "- **mnth** - The month the rentals occurred\n",
    "- **hr** - The hour the rentals occurred\n",
    "- **holiday** - Whether or not the day was a holiday\n",
    "- **weekday** - The day of the week (as a number, 0 to 7)\n",
    "- **workingday** - Whether or not the day was a working day\n",
    "- **weathersit** - The weather (as a categorical variable)\n",
    "- **temp** - The temperature, on a 0-1 scale\n",
    "- **atemp** - The adjusted temperature\n",
    "- **hum** - The humidity, on a 0-1 scale\n",
    "- **windspeed** - The wind speed, on a 0-1 scale\n",
    "- **casual** - The number of casual riders (people who hadn't previously signed up with the bike sharing program)\n",
    "- **registered** - The number of registered riders (people who had already signed up)\n",
    "- **cnt** - The total number of bike rentals (casual + registered)"
   ]
  },
  {
   "cell_type": "markdown",
   "metadata": {
    "collapsed": true
   },
   "source": [
    "## Target\n",
    "\n",
    "The target column for prediction is **'cnt'**, which is the total number of bike rentals for the observed hour.\n",
    "\n",
    "Hourly bike rentals range from 1-977 with a mean of 189. The distribution is right skewed and indicates that the majority of hours are low volume, but that there are certain hours with substantial peaks. We'll want a model that handles these demand spikes well."
   ]
  },
  {
   "cell_type": "code",
   "execution_count": 3,
   "metadata": {
    "collapsed": false
   },
   "outputs": [
    {
     "data": {
      "text/plain": [
       "count    17379.000000\n",
       "mean       189.463088\n",
       "std        181.387599\n",
       "min          1.000000\n",
       "25%         40.000000\n",
       "50%        142.000000\n",
       "75%        281.000000\n",
       "max        977.000000\n",
       "Name: cnt, dtype: float64"
      ]
     },
     "execution_count": 3,
     "metadata": {},
     "output_type": "execute_result"
    }
   ],
   "source": [
    "#### Descriptive Stats\n",
    "df['cnt'].describe()"
   ]
  },
  {
   "cell_type": "code",
   "execution_count": 4,
   "metadata": {
    "collapsed": false
   },
   "outputs": [
    {
     "data": {
      "text/plain": [
       "<matplotlib.axes._subplots.AxesSubplot at 0x7f8173e69400>"
      ]
     },
     "execution_count": 4,
     "metadata": {},
     "output_type": "execute_result"
    },
    {
     "data": {
      "image/png": "[encoded data removed]",
      "text/plain": [
       "<matplotlib.figure.Figure at 0x7f8173e3cd68>"
      ]
     },
     "metadata": {},
     "output_type": "display_data"
    }
   ],
   "source": [
    "# Frequency\n",
    "df['cnt'].hist(bins=20)"
   ]
  },
  {
   "cell_type": "markdown",
   "metadata": {},
   "source": [
    "## Feature Correlation w/Target\n",
    "\n",
    "#### Temperature\n",
    "\n",
    "Higher temperature hours tend to have higher rental rates.\n",
    "\n",
    "- **temp** -  Temperature normalized 0-1 based on -8C - 38C range.\n",
    "- **atemp** - The temperature that it \"feels like\".\n",
    "\n",
    "#### Humidity\n",
    "\n",
    "Lower humidity hours tend to have higher rental rates.\n",
    "\n",
    "- **hum** - Normalized humidity. The values are divided to 100 (max).\n",
    "\n",
    "#### Other weather fields\n",
    "\n",
    "- Weather situation (**weathersit**) shows that it may influence the outcome of the model, however; it will need to be preprocessed before it is useful.\n",
    "\n",
    "- **windspeed** shows a weak positive correlation with rental rates.\n",
    "\n",
    "#### Temporal fields\n",
    "\n",
    "Several fields include data about time including; season, mnth, and hour. These fields, particularly hr, do show some correlation with rentals, however; they will require some preprocessing before insights can be derived."
   ]
  },
  {
   "cell_type": "code",
   "execution_count": 5,
   "metadata": {
    "collapsed": false,
    "scrolled": true
   },
   "outputs": [
    {
     "name": "stdout",
     "output_type": "stream",
     "text": [
      "season        0.178056\n",
      "mnth          0.120638\n",
      "hr            0.394071\n",
      "holiday      -0.030927\n",
      "weekday       0.026900\n",
      "workingday    0.030284\n",
      "weathersit   -0.142426\n",
      "temp          0.404772\n",
      "atemp         0.400929\n",
      "hum          -0.322911\n",
      "windspeed     0.093234\n",
      "Name: cnt, dtype: float64\n"
     ]
    }
   ],
   "source": [
    "corrs = df.corr()\n",
    "corrs = corrs['cnt'].drop(['instant', 'registered', 'casual', 'cnt', 'yr'])\n",
    "print(corrs)"
   ]
  },
  {
   "cell_type": "markdown",
   "metadata": {},
   "source": [
    "## Feature Engineering\n",
    "\n",
    "#### Hours - Add Daypart Feature\n",
    "\n",
    "It may be helpful later to have the option of looking at hours in groups based on the part of the day that they are in - morning, afternoon, evening or overnight. This step will add a label ['daypart'] and then convert to k-1 dummy variables."
   ]
  },
  {
   "cell_type": "code",
   "execution_count": 6,
   "metadata": {
    "collapsed": false
   },
   "outputs": [],
   "source": [
    "## Group hours by morning/afternoon dayparts etc.\n",
    "def assign_daypart(val):\n",
    "    if ((val >= 6) & (val < 12)):   #Morning\n",
    "        return 1\n",
    "    elif ((val >= 12) & (val < 18)):  #Afternoon\n",
    "        return 2\n",
    "    elif ((val >= 18) & (val < 24)):  #Evening\n",
    "        return 3\n",
    "    else:  #Overnight\n",
    "        return 4\n",
    "    \n",
    "#Add daypart dummies\n",
    "df['daypart'] = df['hr'].apply(assign_daypart)\n",
    "daypart_dummies = pd.get_dummies(df['daypart'], prefix='daypart', drop_first=True)\n",
    "df = pd.concat([df, daypart_dummies], axis=1)\n",
    "#df = df.drop('daypart', axis=1)"
   ]
  },
  {
   "cell_type": "markdown",
   "metadata": {},
   "source": [
    "#### Hours option 2: sine and cosine transform\n",
    "\n",
    "Although hours 0 and 23 are separated by only a second, a machine learning model will not understand their cyclical nature in their current state. Instead, it would see jump discontinuity between 23 and 0. One potential solution is to transform hours into to separate variables expressed in sin and cos functions. This technique is discussed in more depth [here](https://ianlondon.github.io/blog/encoding-cyclical-features-24hour-time/).\n",
    "\n",
    "This technique may improve linear regression models, but will not be useful in a random forest as the sin and cos components won't be considered together."
   ]
  },
  {
   "cell_type": "code",
   "execution_count": 7,
   "metadata": {
    "collapsed": false,
    "scrolled": true
   },
   "outputs": [],
   "source": [
    "#sine and cosine tranform hrs\n",
    "df['sin_time'] = np.sin(2*np.pi*df.hr/24)\n",
    "df['cos_time'] = np.cos(2*np.pi*df.hr/24)"
   ]
  },
  {
   "cell_type": "code",
   "execution_count": 8,
   "metadata": {
    "collapsed": false,
    "scrolled": true
   },
   "outputs": [
    {
     "data": {
      "image/png": "[encoded data removed]",
      "text/plain": [
       "<matplotlib.figure.Figure at 0x7f8171dab780>"
      ]
     },
     "metadata": {},
     "output_type": "display_data"
    }
   ],
   "source": [
    "#visualize resulting (sin, cos) hrs\n",
    "fig, ax = plt.subplots(figsize=(4,4))\n",
    "plt.scatter(df['sin_time'], df['cos_time'])\n",
    "plt.xlim(-1.05,1.05)\n",
    "plt.ylim(-1.05,1.05)\n",
    "plt.xlabel('hr as sin function')\n",
    "plt.ylabel('hr as cos function')\n",
    "for spine in ax.spines:\n",
    "    ax.spines[spine].set_visible(False)"
   ]
  },
  {
   "cell_type": "markdown",
   "metadata": {},
   "source": [
    "## Other cyclical features\n",
    "\n",
    "While we're at it, the **mnth**, **weekday**, and **season** features may also benefit from this tranformation. Of the three, I'll only be including weekday in the models and opting to include the number of days from the beginning of the year instead of month or season."
   ]
  },
  {
   "cell_type": "code",
   "execution_count": 9,
   "metadata": {
    "collapsed": false
   },
   "outputs": [],
   "source": [
    "df['sin_weekday'] = np.sin(2*np.pi*df.weekday/7)\n",
    "df['cos_weekday'] = np.cos(2*np.pi*df.weekday/7)\n",
    "#df = df.drop(['mnth', 'season'], axis=1)"
   ]
  },
  {
   "cell_type": "markdown",
   "metadata": {},
   "source": [
    "#### Day\n",
    "\n",
    "For the day (of the year) feature, it would make sense to have two versions available; day of the year expressed in days since Dec 31st and day of the year expressed as sin+cos functions."
   ]
  },
  {
   "cell_type": "code",
   "execution_count": 10,
   "metadata": {
    "collapsed": false
   },
   "outputs": [],
   "source": [
    "#convert to datetime\n",
    "df['dteday'] = pd.to_datetime(df['dteday'])\n",
    "\n",
    "#calc day of the year / drop original col\n",
    "def day_of_year(val):\n",
    "    jan_one = datetime(year=val.year, month=1, day=1)\n",
    "    return (val - jan_one).days + 1\n",
    "\n",
    "df['day_of_year'] = df['dteday'].apply(day_of_year)\n",
    "df = df.drop(['dteday'], axis=1)\n",
    "\n",
    "#apply sin/cos transformation to day_of_year (keep original also)\n",
    "df['sin_day_of_year'] = np.sin(2*np.pi*df.day_of_year/365)\n",
    "df['cos_day_of_year'] = np.cos(2*np.pi*df.day_of_year/365)"
   ]
  },
  {
   "cell_type": "markdown",
   "metadata": {},
   "source": [
    "#### Casual / registered users\n",
    "\n",
    "Casual/registered user fields are a decomposition of the target variable, so it doesn't make sense to include them as predictors of the target. We would not know these figures when making predictions on new data."
   ]
  },
  {
   "cell_type": "code",
   "execution_count": 11,
   "metadata": {
    "collapsed": false
   },
   "outputs": [],
   "source": [
    "df = df.drop(['registered', 'casual'], axis=1)"
   ]
  },
  {
   "cell_type": "markdown",
   "metadata": {
    "collapsed": true
   },
   "source": [
    "#### Weather situation\n",
    "\n",
    "Weather situation is a non-continuous categorical value that should be converted to dummy k-1 variables."
   ]
  },
  {
   "cell_type": "code",
   "execution_count": 12,
   "metadata": {
    "collapsed": false
   },
   "outputs": [],
   "source": [
    "#Add weathersit dummies\n",
    "weathersit_dummies = pd.get_dummies(df['weathersit'], prefix='weathersit', drop_first=True)\n",
    "df = pd.concat([df, weathersit_dummies], axis=1)\n",
    "#df = df.drop('weathersit', axis=1)"
   ]
  },
  {
   "cell_type": "markdown",
   "metadata": {},
   "source": [
    "#### Collinearity"
   ]
  },
  {
   "cell_type": "code",
   "execution_count": 13,
   "metadata": {
    "collapsed": false
   },
   "outputs": [
    {
     "data": {
      "text/plain": [
       "<matplotlib.axes._subplots.AxesSubplot at 0x7f8171cb3940>"
      ]
     },
     "execution_count": 13,
     "metadata": {},
     "output_type": "execute_result"
    },
    {
     "data": {
      "image/png": "[encoded data removed]",
      "text/plain": [
       "<matplotlib.figure.Figure at 0x7f8173e29c18>"
      ]
     },
     "metadata": {},
     "output_type": "display_data"
    }
   ],
   "source": [
    "corrs = df.corr().abs()\n",
    "sns.heatmap(corrs)"
   ]
  },
  {
   "cell_type": "markdown",
   "metadata": {},
   "source": [
    "#### Drop temp\n",
    "\n",
    "Adjusted temp ('atemp') and temp contribute virtually the same information."
   ]
  },
  {
   "cell_type": "code",
   "execution_count": 14,
   "metadata": {
    "collapsed": true
   },
   "outputs": [],
   "source": [
    "df = df.drop(['temp'], axis=1)"
   ]
  },
  {
   "cell_type": "code",
   "execution_count": 15,
   "metadata": {
    "collapsed": false
   },
   "outputs": [
    {
     "data": {
      "text/plain": [
       "Index(['instant', 'season', 'yr', 'mnth', 'hr', 'holiday', 'weekday',\n",
       "       'workingday', 'weathersit', 'atemp', 'hum', 'windspeed', 'cnt',\n",
       "       'daypart', 'daypart_2', 'daypart_3', 'daypart_4', 'sin_time',\n",
       "       'cos_time', 'sin_weekday', 'cos_weekday', 'day_of_year',\n",
       "       'sin_day_of_year', 'cos_day_of_year', 'weathersit_2', 'weathersit_3',\n",
       "       'weathersit_4'],\n",
       "      dtype='object')"
      ]
     },
     "execution_count": 15,
     "metadata": {},
     "output_type": "execute_result"
    }
   ],
   "source": [
    "df.columns"
   ]
  },
  {
   "cell_type": "markdown",
   "metadata": {},
   "source": [
    "## Feature lists\n",
    "\n",
    "Organizing features by lists for potential inclusion in each model type.\n",
    "\n",
    "**Linear Regression:**\n",
    "- 'yr', \n",
    "- Time of Day Options (pick one only):\n",
    " 1. ['daypart_2', 'daypart_3', 'daypart_4']\n",
    " 2. ['sin_time', 'cos_time']\n",
    " 3. 'hr'\n",
    "- 'holiday', \n",
    "- 'sin_weekday', \n",
    "- 'cos_weekday',\n",
    "- 'workingday', \n",
    "- 'atemp', \n",
    "- 'hum',\n",
    "- 'windspeed',\n",
    "Pick one day option:\n",
    "- - 'day_of_year'\n",
    "- - ['sin_day_of_year', 'cos_day_of_year'] \n",
    "- 'weathersit_2', \n",
    "- 'weathersit_3',\n",
    "- 'weathersit_4'\n",
    "\n",
    "**Random Forest:**\n",
    "- 'yr'\n",
    "- 'holiday', \n",
    "- 'weekday', \n",
    "- 'workingday', \n",
    "- 'atemp', \n",
    "- 'hum',\n",
    "- 'windspeed',  \n",
    "- 'day_of_year', \n",
    "- 'weathersit_2', \n",
    "- 'weathersit_3',\n",
    "- 'weathersit_4'\n",
    "- Time of day options (pick one):\n",
    "- - 'daypart_2', 'daypart_3', 'daypart_4'\n",
    "- - 'hr'"
   ]
  },
  {
   "cell_type": "markdown",
   "metadata": {},
   "source": [
    "# Linear Regression\n",
    "\n",
    "The first model I'm testing will be Linear Regression with kfolds cross-validation. The cost function we're trying to minimize is root_mean_squared_error (RMSE).\n",
    "\n",
    "#### Result\n",
    "\n",
    "After testing several configurations of this model, I was able to predict bike rentals with a 151.7 RMSE. This result is not accurate enough to create a reliable forecast for operations and will likely be outperformed by a decision tree or random forest model."
   ]
  },
  {
   "cell_type": "markdown",
   "metadata": {},
   "source": [
    "## Check feature priorities"
   ]
  },
  {
   "cell_type": "code",
   "execution_count": 16,
   "metadata": {
    "collapsed": false
   },
   "outputs": [],
   "source": [
    "#group features\n",
    "day_part = ['daypart_2', 'daypart_3', 'daypart_4']\n",
    "sin_cos_time = ['sin_time', 'cos_time']\n",
    "univariate_features = ['yr','holiday','workingday','atemp','hum','windspeed']\n",
    "sin_cos_doy = ['sin_day_of_year','cos_day_of_year']\n",
    "weathersit = ['weathersit_2','weathersit_3','weathersit_4']\n",
    "sin_cos_weekday = ['sin_weekday','cos_weekday']"
   ]
  },
  {
   "cell_type": "code",
   "execution_count": 17,
   "metadata": {
    "collapsed": false
   },
   "outputs": [],
   "source": [
    "#Train/Test/Crossvalidate Function. If n_folds=1, holdout validation only.\n",
    "def train_test_kfold(a_dataframe, feature_list, n_folds=1):\n",
    "    #Shuffle data\n",
    "    data = a_dataframe.copy()\n",
    "    data = data.sample(frac=1, random_state=1)\n",
    "    \n",
    "    #Holdout Validation\n",
    "    if n_folds == 1:\n",
    "        #partition 50/50 split\n",
    "        last_row = int(np.floor(data.shape[0] * .5))\n",
    "        test = data[:last_row]\n",
    "        train = data[last_row:]\n",
    "        \n",
    "        #train\n",
    "        lr = LinearRegression()\n",
    "        lr.fit(train[feature_list], train['cnt'])\n",
    "        \n",
    "        #predict test data, calc error\n",
    "        test_predictions = lr.predict(test[feature_list])\n",
    "        test_mse = mean_squared_error(y_true=test['cnt'], y_pred=test_predictions)\n",
    "        test_rmse = np.sqrt(test_mse)\n",
    "        \n",
    "        return test_rmse\n",
    "    \n",
    "    #KFolds cross-validation\n",
    "    if n_folds > 1: \n",
    "        kf = KFold(n_splits=n_folds)\n",
    "        rmse_values = []\n",
    "        for train_index, test_index, in kf.split(data):\n",
    "            train = data.iloc[train_index]\n",
    "            test = data.iloc[test_index]\n",
    "            lr = LinearRegression()\n",
    "            lr.fit(train[feature_list], train['cnt'])\n",
    "            predictions = lr.predict(test[feature_list])\n",
    "            mse = mean_squared_error(test['cnt'], predictions)\n",
    "            rmse = np.sqrt(mse)\n",
    "            rmse_values.append(rmse)\n",
    "        avg_rmse = np.mean(rmse_values)\n",
    "        return avg_rmse"
   ]
  },
  {
   "cell_type": "markdown",
   "metadata": {},
   "source": [
    "#### Compare time of day options\n",
    "\n",
    "Earlier, I created a few options for time of day.\n",
    " - **\"hr\"**: hour of the day on 0-23 scale\n",
    " - **\"daypart\"**: hour of the day grouped in 6 hour blocks and expressed as 3 (k-1) dummy variables.\n",
    " - **'sin_time' and 'cos_time'**: 'hr' represented by two variables, sin and cos transformations.\n",
    " \n",
    "After testing each independently, the **sin_cos_time** option will be used moving forward as it produces the most accurate predictions."
   ]
  },
  {
   "cell_type": "code",
   "execution_count": 18,
   "metadata": {
    "collapsed": false
   },
   "outputs": [
    {
     "name": "stdout",
     "output_type": "stream",
     "text": [
      "hr: 166.67569301079567\n",
      "daypart: 151.6054933228764\n",
      "sin_cos_time: 147.710815885106\n"
     ]
    }
   ],
   "source": [
    "print(\"hr: {}\".format(train_test_kfold(df, ['hr'], n_folds=5)))\n",
    "print(\"daypart: {}\".format(train_test_kfold(df, day_part, n_folds=5)))\n",
    "print(\"sin_cos_time: {}\".format(train_test_kfold(df, sin_cos_time, n_folds=5)))"
   ]
  },
  {
   "cell_type": "markdown",
   "metadata": {
    "collapsed": true
   },
   "source": [
    "#### Compare date options\n",
    "Like time of day, we have a few choices for incorporating dates:\n",
    "- **'day_of_year'**: number of days since 12/31\n",
    "- **'sin_day_of_year'** and '**cos_day_of_year'**: number of days since 12/31 expressed as sin and cos variables\n",
    "\n",
    "Again, the sine/cosine tranformations outperform the original, so we'll stick with them for this model."
   ]
  },
  {
   "cell_type": "code",
   "execution_count": 19,
   "metadata": {
    "collapsed": false,
    "scrolled": true
   },
   "outputs": [
    {
     "name": "stdout",
     "output_type": "stream",
     "text": [
      "day_of_year: 180.05604957175768\n",
      "sin_cos_doy: 174.89987838291452\n"
     ]
    }
   ],
   "source": [
    "print(\"day_of_year: {}\".format(train_test_kfold(df, ['day_of_year'], n_folds=5)))\n",
    "print(\"sin_cos_doy: {}\".format(train_test_kfold(df, sin_cos_doy, n_folds=5)))"
   ]
  },
  {
   "cell_type": "markdown",
   "metadata": {},
   "source": [
    "#### Compare remaining features"
   ]
  },
  {
   "cell_type": "code",
   "execution_count": 20,
   "metadata": {
    "collapsed": false,
    "scrolled": true
   },
   "outputs": [
    {
     "name": "stdout",
     "output_type": "stream",
     "text": [
      "atemp: 166\n",
      "hum: 171\n",
      "yr: 175\n",
      "weathersit: 179\n",
      "windspeed: 180\n",
      "holiday: 181\n",
      "workingday: 181\n",
      "sin_cos_weekday: 181\n"
     ]
    }
   ],
   "source": [
    "feature_rmses = {}\n",
    "for col in univariate_features:\n",
    "    feature_rmses[col] = train_test_kfold(df, [col], n_folds=5)\n",
    "    \n",
    "feature_rmses['weathersit'] = train_test_kfold(df, weathersit, n_folds=5)\n",
    "feature_rmses['sin_cos_weekday'] = train_test_kfold(df, sin_cos_weekday, n_folds=5)\n",
    "\n",
    "for key, value in sorted(feature_rmses.items(), key=lambda item: item[1]):\n",
    "    print(\"%s: %s\" % (key, int(value)))"
   ]
  },
  {
   "cell_type": "code",
   "execution_count": 21,
   "metadata": {
    "collapsed": false,
    "scrolled": true
   },
   "outputs": [
    {
     "name": "stdout",
     "output_type": "stream",
     "text": [
      "151.76749842694863\n",
      "151.77340912744563\n",
      "151.77049834869985\n",
      "151.83004727867723\n",
      "151.95493169762787\n",
      "152.12471060610284\n",
      "156.8384460204832\n"
     ]
    }
   ],
   "source": [
    "print(train_test_kfold(df, [\"atemp\", \"hum\", \"yr\"] + weathersit + ['windspeed', 'holiday', 'workingday'] + sin_cos_weekday, n_folds=5))\n",
    "print(train_test_kfold(df, [\"atemp\", \"hum\", \"yr\"] + weathersit + ['windspeed', 'holiday', 'workingday'], n_folds=5))\n",
    "print(train_test_kfold(df, [\"atemp\", \"hum\", \"yr\"] + weathersit + ['windspeed', 'holiday'], n_folds=5))\n",
    "print(train_test_kfold(df, [\"atemp\", \"hum\", \"yr\"] + weathersit + ['windspeed'], n_folds=5))\n",
    "print(train_test_kfold(df, [\"atemp\", \"hum\", \"yr\"] + weathersit, n_folds=5))\n",
    "print(train_test_kfold(df, [\"atemp\", \"hum\", \"yr\"], n_folds=5))\n",
    "print(train_test_kfold(df, [\"atemp\", \"hum\"], n_folds=5))"
   ]
  },
  {
   "cell_type": "markdown",
   "metadata": {
    "collapsed": true
   },
   "source": [
    "# Decision Tree Model\n",
    "\n",
    "A decision tree model proves to be a better approach to this problem. After some pre-pruning (constraining the min_samples_split to 20 and max_depth to 10) the tree model was able to predict rental counts with less than half of the RMSE score compared to the LinearRegression model.\n",
    "\n"
   ]
  },
  {
   "cell_type": "code",
   "execution_count": 22,
   "metadata": {
    "collapsed": false
   },
   "outputs": [],
   "source": [
    "#Model function\n",
    "def decision_tree(dataframe, features, min_samples_leaf, \n",
    "                  min_samples_split, max_depth, max_features):\n",
    "    #shuffle\n",
    "    data = dataframe.copy()\n",
    "    data = data.sample(frac=1, random_state=1)\n",
    "    \n",
    "    #partition\n",
    "    last_row = int(data.shape[0] * .8)\n",
    "    test = data[:last_row]\n",
    "    train = data[last_row:]\n",
    "    \n",
    "    #define and fit model on training data\n",
    "    model = DecisionTreeRegressor(min_samples_leaf=min_samples_leaf, \n",
    "                                  max_depth=max_depth,\n",
    "                                  min_samples_split=min_samples_split,\n",
    "                                  max_features=max_features,\n",
    "                                  random_state=1)\n",
    "    \n",
    "    model.fit(train[features], train['cnt'])\n",
    "    \n",
    "    #predict train data (for overfitting assessment)\n",
    "    predictions_train = model.predict(train[features])\n",
    "    \n",
    "    #predict test data\n",
    "    predictions = model.predict(test[features])\n",
    "    \n",
    "    #measure errors\n",
    "    mse_train = mean_squared_error(y_true=train['cnt'], y_pred=predictions_train)\n",
    "    rmse_train = np.sqrt(mse_train)\n",
    "    mse_test = mean_squared_error(y_true=test['cnt'], y_pred=predictions)\n",
    "    rmse_test = np.sqrt(mse_test)\n",
    "    \n",
    "    return rmse_train, rmse_test\n"
   ]
  },
  {
   "cell_type": "code",
   "execution_count": 23,
   "metadata": {
    "collapsed": false
   },
   "outputs": [
    {
     "name": "stdout",
     "output_type": "stream",
     "text": [
      "['instant', 'season', 'yr', 'mnth', 'hr', 'holiday', 'weekday', 'workingday', 'weathersit', 'atemp', 'hum', 'windspeed', 'daypart', 'day_of_year']\n"
     ]
    }
   ],
   "source": [
    "#Feature selection\n",
    "features = list(df.columns)\n",
    "remove_cols = ['cnt', 'sin_day_of_year', \n",
    "               'cos_day_of_year', 'weathersit_2', \n",
    "               'weathersit_3', 'weathersit_4',\n",
    "                'cos_time', 'sin_time', \n",
    "               'sin_weekday', 'cos_weekday',\n",
    "              'daypart_2', 'daypart_3', 'daypart_4']\n",
    "for col in remove_cols:\n",
    "    if col in features:\n",
    "        features.remove(col)\n",
    "print(features)"
   ]
  },
  {
   "cell_type": "code",
   "execution_count": 24,
   "metadata": {
    "collapsed": false
   },
   "outputs": [
    {
     "name": "stdout",
     "output_type": "stream",
     "text": [
      "(67.3887218514423, 84.93799582794841)\n"
     ]
    }
   ],
   "source": [
    "#Experiment with pre-pruning options\n",
    "tree = decision_tree(df, \n",
    "                    features, \n",
    "                    min_samples_leaf=1, \n",
    "                    min_samples_split=20,\n",
    "                    max_depth=10, \n",
    "                    max_features=11\n",
    "                   )\n",
    "print(tree)"
   ]
  },
  {
   "cell_type": "markdown",
   "metadata": {
    "collapsed": true
   },
   "source": [
    "# Random Forest Model\n",
    "\n",
    "The decision tree was a big improvement over regression, but there is plenty of room left in the cost function to keep exploring. Next up is random forest trees.\n",
    "\n",
    "#### Result\n",
    "\n",
    "The random forest model further improved predictions, reducing RMSE from 75 to 49."
   ]
  },
  {
   "cell_type": "code",
   "execution_count": 25,
   "metadata": {
    "collapsed": false
   },
   "outputs": [],
   "source": [
    "#Model function\n",
    "def random_forest(dataframe, n_estimators, features, min_samples_leaf, \n",
    "                  min_samples_split, max_depth, max_features, max_leaf_nodes=None):\n",
    "    #shuffle\n",
    "    data = dataframe.copy()\n",
    "    data = data.sample(frac=1, random_state=1)\n",
    "    \n",
    "    #partition\n",
    "    last_row = int(data.shape[0] * .8)\n",
    "    test = data[:last_row]\n",
    "    train = data[last_row:]\n",
    "    \n",
    "    #define and fit model on training data\n",
    "    model = RandomForestRegressor(bootstrap=True,\n",
    "                                  n_estimators=n_estimators,\n",
    "                                  min_samples_leaf=min_samples_leaf, \n",
    "                                  max_depth=max_depth,\n",
    "                                  min_samples_split=min_samples_split,\n",
    "                                  max_features=max_features,\n",
    "                                  max_leaf_nodes=max_leaf_nodes,\n",
    "                                  random_state=1)\n",
    "    \n",
    "    model.fit(train[features], train['cnt'])\n",
    "    \n",
    "    #predict train data (for overfitting assessment)\n",
    "    predictions_train = model.predict(train[features])\n",
    "    \n",
    "    #predict test data\n",
    "    predictions = model.predict(test[features])\n",
    "    \n",
    "    #measure errors\n",
    "    mse_train = mean_squared_error(y_true=train['cnt'], y_pred=predictions_train)\n",
    "    rmse_train = np.sqrt(mse_train)\n",
    "    mse_test = mean_squared_error(y_true=test['cnt'], y_pred=predictions)\n",
    "    rmse_test = np.sqrt(mse_test)\n",
    "    \n",
    "    return rmse_train, rmse_test\n"
   ]
  },
  {
   "cell_type": "code",
   "execution_count": 26,
   "metadata": {
    "collapsed": false,
    "scrolled": true
   },
   "outputs": [
    {
     "name": "stdout",
     "output_type": "stream",
     "text": [
      "['instant', 'season', 'yr', 'mnth', 'hr', 'holiday', 'workingday', 'atemp', 'hum', 'windspeed', 'daypart_2', 'daypart_3', 'daypart_4', 'sin_time', 'cos_time', 'sin_weekday', 'cos_weekday', 'day_of_year', 'weathersit_2', 'weathersit_3', 'weathersit_4']\n"
     ]
    }
   ],
   "source": [
    "#Feature selection\n",
    "features = list(df.columns)\n",
    "remove_cols = ['cnt', 'weathersit', 'daypart', 'weekday', 'sin_day_of_year', 'cos_day_of_year']\n",
    "\n",
    "for col in remove_cols:\n",
    "    if col in features:\n",
    "        features.remove(col)\n",
    "print(features)"
   ]
  },
  {
   "cell_type": "code",
   "execution_count": 27,
   "metadata": {
    "collapsed": false,
    "scrolled": true
   },
   "outputs": [
    {
     "name": "stdout",
     "output_type": "stream",
     "text": [
      "(20.223146220894087, 49.73011068089806)\n"
     ]
    }
   ],
   "source": [
    "#Experiment with pre-pruning options\n",
    "forest = random_forest(df,\n",
    "                    n_estimators=50,\n",
    "                    features=features,\n",
    "                    min_samples_leaf=1, \n",
    "                    min_samples_split=2,\n",
    "                    max_depth=18, \n",
    "                    max_features='auto',\n",
    "                    max_leaf_nodes=None\n",
    "                   )\n",
    "print(forest)"
   ]
  }
 ],
 "metadata": {
  "kernelspec": {
   "display_name": "Python 3",
   "language": "python",
   "name": "python3"
  },
  "language_info": {
   "codemirror_mode": {
    "name": "ipython",
    "version": 3
   },
   "file_extension": ".py",
   "mimetype": "text/x-python",
   "name": "python",
   "nbconvert_exporter": "python",
   "pygments_lexer": "ipython3",
   "version": "3.4.3"
  }
 },
 "nbformat": 4,
 "nbformat_minor": 0
}
